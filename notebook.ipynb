{
 "metadata": {
  "language_info": {
   "codemirror_mode": {
    "name": "ipython",
    "version": 3
   },
   "file_extension": ".py",
   "mimetype": "text/x-python",
   "name": "python",
   "nbconvert_exporter": "python",
   "pygments_lexer": "ipython3",
   "version": "3.7.3"
  },
  "orig_nbformat": 2,
  "kernelspec": {
   "name": "python373jvsc74a57bd02b9cd5c3ec4eb793e30b3fe22fb3034f3d8c9722bad10f4cedbbd7faa7e7f261",
   "display_name": "Python 3.7.3 64-bit ('base': conda)"
  }
 },
 "nbformat": 4,
 "nbformat_minor": 2,
 "cells": [
  {
   "cell_type": "code",
   "execution_count": 1,
   "metadata": {},
   "outputs": [],
   "source": [
    "from bs4 import BeautifulSoup\n",
    "import requests"
   ]
  },
  {
   "cell_type": "code",
   "execution_count": 2,
   "metadata": {},
   "outputs": [],
   "source": [
    "url = 'https://www.flipkart.com/search?q=oneplus'\n",
    "domain = 'https://www.flipkart.com'"
   ]
  },
  {
   "cell_type": "code",
   "execution_count": 3,
   "metadata": {},
   "outputs": [],
   "source": [
    "data = requests.get(url)\n",
    "soup = BeautifulSoup(data.text)"
   ]
  },
  {
   "cell_type": "code",
   "execution_count": 5,
   "metadata": {},
   "outputs": [],
   "source": [
    "items = soup.find_all('div', {'class' : '_1AtVbE'})"
   ]
  },
  {
   "cell_type": "code",
   "execution_count": 20,
   "metadata": {
    "tags": []
   },
   "outputs": [
    {
     "output_type": "stream",
     "name": "stdout",
     "text": [
      "OnePlus Y Series 80 cm (32 inch) HD Ready LED Smart Android TV\n₹15,999\n20,015 Ratings & 1,797 Reviews\n\nhttps://www.flipkart.com/oneplus-y-series-80-cm-32-inch-hd-ready-led-smart-android-tv/p/itme650a6bb8cee3?pid=TVSFVWD2ENXYGEJY&lid=LSTTVSFVWD2ENXYGEJYBNWSST&marketplace=FLIPKART&q=oneplus&store=search.flipkart.com&srno=s_1_1&otracker=search&fm=organic&iid=d7ce4e31-a2e3-4ad0-bf59-dac36190fd33.TVSFVWD2ENXYGEJY.SEARCH&ppt=None&ppn=None&ssid=oqhd3pec740000001621498148861&qH=43780d550576947f\n\nOnePlus Y Series 108 cm (43 inch) Full HD LED Smart Android TV\n₹26,999\n20,015 Ratings & 1,797 Reviews\n\nhttps://www.flipkart.com/oneplus-y-series-108-cm-43-inch-full-hd-led-smart-android-tv/p/itme3bf85dc7fef6?pid=TVSFVWD2GRQEG462&lid=LSTTVSFVWD2GRQEG462KP5F8D&marketplace=FLIPKART&q=oneplus&store=search.flipkart.com&srno=s_1_2&otracker=search&fm=organic&iid=d7ce4e31-a2e3-4ad0-bf59-dac36190fd33.TVSFVWD2GRQEG462.SEARCH&ppt=None&ppn=None&ssid=oqhd3pec740000001621498148861&qH=43780d550576947f\n\nOnePlus U Series 138.8 cm (55 inch) Ultra HD (4K) LED Smart Android TV\n₹52,999\n147 Ratings & 13 Reviews\n\nhttps://www.flipkart.com/oneplus-u-series-138-8-cm-55-inch-ultra-hd-4k-led-smart-android-tv/p/itmd1ba8f74e5a32?pid=TVSFVWD2H2HE7QGU&lid=LSTTVSFVWD2H2HE7QGUIGEZSV&marketplace=FLIPKART&q=oneplus&store=search.flipkart.com&srno=s_1_3&otracker=search&fm=organic&iid=d7ce4e31-a2e3-4ad0-bf59-dac36190fd33.TVSFVWD2H2HE7QGU.SEARCH&ppt=None&ppn=None&ssid=oqhd3pec740000001621498148861&qH=43780d550576947f\n\nOnePlus Q1 Series 138.8 cm (55 inch) QLED Ultra HD (4K) Smart Android TV\n₹62,899\n994 Ratings & 142 Reviews\n\nhttps://www.flipkart.com/oneplus-q1-series-138-8-cm-55-inch-qled-ultra-hd-4k-smart-android-tv/p/itm7698d5aaf7a23?pid=TVSFUXZCGFX7JBQG&lid=LSTTVSFUXZCGFX7JBQGQFSDDX&marketplace=FLIPKART&q=oneplus&store=search.flipkart.com&srno=s_1_4&otracker=search&fm=organic&iid=d7ce4e31-a2e3-4ad0-bf59-dac36190fd33.TVSFUXZCGFX7JBQG.SEARCH&ppt=None&ppn=None&ssid=oqhd3pec740000001621498148861&qH=43780d550576947f\n\nMi 4A PRO 80 cm (32 inch) HD Ready LED Smart Android TV with Google\n₹14,999\n5,95,046 Ratings & 61,947 Reviews\n\nhttps://www.flipkart.com/mi-4a-pro-80-cm-32-inch-hd-ready-led-smart-android-tv-google/p/itmfdwh5jyqhmvzg?pid=TVSG22C4DXQRVSTT&lid=LSTTVSG22C4DXQRVSTTJZD2M0&marketplace=FLIPKART&q=oneplus&store=search.flipkart.com&srno=s_1_5&otracker=search&fm=organic&iid=d7ce4e31-a2e3-4ad0-bf59-dac36190fd33.TVSG22C4DXQRVSTT.SEARCH&ppt=None&ppn=None&ssid=oqhd3pec740000001621498148861&qH=43780d550576947f\n\nREDMI 9i (Sea Blue, 64 GB)\n₹7,999\n2,83,802 Ratings & 16,046 Reviews\n\nhttps://www.flipkart.com/redmi-9i-sea-blue-64-gb/p/itm2d2ba7f6cbf65?pid=MOBFV8RYTHGA8BY9&lid=LSTMOBFV8RYTHGA8BY94NDC4M&marketplace=FLIPKART&q=oneplus&store=search.flipkart.com&srno=s_1_6&otracker=search&fm=organic&iid=d7ce4e31-a2e3-4ad0-bf59-dac36190fd33.MOBFV8RYTHGA8BY9.SEARCH&ppt=None&ppn=None&ssid=oqhd3pec740000001621498148861&qH=43780d550576947f\n\nREDMI 9i (Midnight Black, 64 GB)\n₹7,999\n2,83,802 Ratings & 16,046 Reviews\n\nhttps://www.flipkart.com/redmi-9i-midnight-black-64-gb/p/itm15c585b87d780?pid=MOBFV8RYKWQ3HACE&lid=LSTMOBFV8RYKWQ3HACEV2QOWQ&marketplace=FLIPKART&q=oneplus&store=search.flipkart.com&srno=s_1_7&otracker=search&fm=organic&iid=d7ce4e31-a2e3-4ad0-bf59-dac36190fd33.MOBFV8RYKWQ3HACE.SEARCH&ppt=None&ppn=None&ssid=oqhd3pec740000001621498148861&qH=43780d550576947f\n\nrealme 7i (Fusion Green, 64 GB)\n₹11,999\n2,76,836 Ratings & 20,370 Reviews\n\nhttps://www.flipkart.com/realme-7i-fusion-green-64-gb/p/itm13f2c8bee336b?pid=MOBFVH837JMRENEB&lid=LSTMOBFVH837JMRENEB8WARJH&marketplace=FLIPKART&q=oneplus&store=search.flipkart.com&srno=s_1_8&otracker=search&fm=organic&iid=d7ce4e31-a2e3-4ad0-bf59-dac36190fd33.MOBFVH837JMRENEB.SEARCH&ppt=None&ppn=None&ssid=oqhd3pec740000001621498148861&qH=43780d550576947f\n\nrealme 7i (Fusion Green, 128 GB)\n₹14,999\n2,76,836 Ratings & 20,370 Reviews\n\nhttps://www.flipkart.com/realme-7i-fusion-green-128-gb/p/itm13f2c8bee336b?pid=MOBFVH83EA4GMX9E&lid=LSTMOBFVH83EA4GMX9EHF8G0W&marketplace=FLIPKART&q=oneplus&store=search.flipkart.com&srno=s_1_9&otracker=search&fm=organic&iid=d7ce4e31-a2e3-4ad0-bf59-dac36190fd33.MOBFVH83EA4GMX9E.SEARCH&ppt=None&ppn=None&ssid=oqhd3pec740000001621498148861&qH=43780d550576947f\n\nOnePlus Bullets Wireless Z Bass Edition Bluetooth Headset\n₹1,999\n1,27,200 Ratings & 12,832 Reviews\n\nhttps://www.flipkart.com/oneplus-bullets-wireless-z-bass-bluetooth-headset/p/itme024ffec952c5?pid=ACCG2K38YCACC3XV&lid=LSTACCG2K38YCACC3XVJYX6YF&marketplace=FLIPKART&q=oneplus&store=search.flipkart.com&srno=s_1_10&otracker=search&fm=organic&iid=d7ce4e31-a2e3-4ad0-bf59-dac36190fd33.ACCG2K38YCACC3XV.SEARCH&ppt=None&ppn=None&ssid=oqhd3pec740000001621498148861&qH=43780d550576947f\n\nOnePlus Bullets Wireless Z Bass Edition Bluetooth Headset\n₹1,999\n1,27,199 Ratings & 12,832 Reviews\n\nhttps://www.flipkart.com/oneplus-bullets-wireless-z-bass-bluetooth-headset/p/itm6756cd090d651?pid=ACCFVA3KZ2EYMYX3&lid=LSTACCFVA3KZ2EYMYX3C5TCKH&marketplace=FLIPKART&q=oneplus&store=search.flipkart.com&spotlightTagId=BestsellerId_search.flipkart.com&srno=s_1_11&otracker=search&fm=organic&iid=d7ce4e31-a2e3-4ad0-bf59-dac36190fd33.ACCFVA3KZ2EYMYX3.SEARCH&ppt=None&ppn=None&ssid=oqhd3pec740000001621498148861&qH=43780d550576947f\n\nOnePlus Bullets Wireless Z Bluetooth Headset\n₹1,999\n2,71,332 Ratings & 27,760 Reviews\n\nhttps://www.flipkart.com/oneplus-bullets-wireless-z-bluetooth-headset/p/itm61cc633c51438?pid=ACCFR3Q77R6RRGAC&lid=LSTACCFR3Q77R6RRGAC2RJOEB&marketplace=FLIPKART&q=oneplus&store=search.flipkart.com&srno=s_1_12&otracker=search&fm=organic&iid=d7ce4e31-a2e3-4ad0-bf59-dac36190fd33.ACCFR3Q77R6RRGAC.SEARCH&ppt=None&ppn=None&ssid=oqhd3pec740000001621498148861&qH=43780d550576947f\n\nOnePlus Bullets Wireless Z Bass Edition Bluetooth Headset\n₹1,999\n1,27,200 Ratings & 12,832 Reviews\n\nhttps://www.flipkart.com/oneplus-bullets-wireless-z-bass-bluetooth-headset/p/itmfb9414773ff0a?pid=ACCFVA3KZVQWVTWG&lid=LSTACCFVA3KZVQWVTWGZO0TGS&marketplace=FLIPKART&q=oneplus&store=search.flipkart.com&srno=s_1_13&otracker=search&fm=organic&iid=d7ce4e31-a2e3-4ad0-bf59-dac36190fd33.ACCFVA3KZVQWVTWG.SEARCH&ppt=None&ppn=None&ssid=oqhd3pec740000001621498148861&qH=43780d550576947f\n\nOnePlus Band\n₹2,299\n9,465 Ratings & 1,321 Reviews\n\nhttps://www.flipkart.com/oneplus-band/p/itm7f8972cebfa76?pid=SBNFYZBVWMDNCHYR&lid=LSTSBNFYZBVWMDNCHYRANZRKW&marketplace=FLIPKART&q=oneplus&store=search.flipkart.com&srno=s_1_14&otracker=search&fm=organic&iid=d7ce4e31-a2e3-4ad0-bf59-dac36190fd33.SBNFYZBVWMDNCHYR.SEARCH&ppt=None&ppn=None&ssid=oqhd3pec740000001621498148861&qH=43780d550576947f\n\nMi 4X 108 cm (43 inch) Ultra HD (4K) LED Smart Android TV\n₹28,999\n72,338 Ratings & 7,714 Reviews\n\nhttps://www.flipkart.com/mi-4x-108-cm-43-inch-ultra-hd-4k-led-smart-android-tv/p/itmab87244d2fead?pid=TVSGFH5PQRTFRTVG&lid=LSTTVSGFH5PQRTFRTVGITUOXL&marketplace=FLIPKART&q=oneplus&store=search.flipkart.com&srno=s_1_15&otracker=search&fm=organic&iid=d7ce4e31-a2e3-4ad0-bf59-dac36190fd33.TVSGFH5PQRTFRTVG.SEARCH&ppt=None&ppn=None&ssid=oqhd3pec740000001621498148861&qH=43780d550576947f\n\nMi 4X 125.7 cm (50 inch) Ultra HD (4K) LED Smart Android TV\n₹34,999\n72,338 Ratings & 7,714 Reviews\n\nhttps://www.flipkart.com/mi-4x-125-7-cm-50-inch-ultra-hd-4k-led-smart-android-tv/p/itm371a670b12dee?pid=TVSFSFUMDQAVJYCU&lid=LSTTVSFSFUMDQAVJYCUUKBYE3&marketplace=FLIPKART&q=oneplus&store=search.flipkart.com&srno=s_1_16&otracker=search&fm=organic&iid=d7ce4e31-a2e3-4ad0-bf59-dac36190fd33.TVSFSFUMDQAVJYCU.SEARCH&ppt=None&ppn=None&ssid=oqhd3pec740000001621498148861&qH=43780d550576947f\n\nrealme 80 cm (32 inch) HD Ready LED Smart Android TV\n₹14,999\n1,17,340 Ratings & 14,346 Reviews\n\nhttps://www.flipkart.com/realme-80-cm-32-inch-hd-ready-led-smart-android-tv/p/itm56d1cf16da75b?pid=TVSFRTJQTZVKTF6Y&lid=LSTTVSFRTJQTZVKTF6YTYQNP6&marketplace=FLIPKART&q=oneplus&store=search.flipkart.com&srno=s_1_17&otracker=search&fm=organic&iid=d7ce4e31-a2e3-4ad0-bf59-dac36190fd33.TVSFRTJQTZVKTF6Y.SEARCH&ppt=None&ppn=None&ssid=oqhd3pec740000001621498148861&qH=43780d550576947f\n\nSAMSUNG 80 cm (32 inch) HD Ready LED Smart TV 2020 Edition\n₹16,999\n30,150 Ratings & 2,816 Reviews\n\nhttps://www.flipkart.com/samsung-80-cm-32-inch-hd-ready-led-smart-tv-2020/p/itma5db0294e13fe?pid=TVSFQXFKMHUDYCJ3&lid=LSTTVSFQXFKMHUDYCJ3IOJXHJ&marketplace=FLIPKART&q=oneplus&store=search.flipkart.com&srno=s_1_18&otracker=search&fm=organic&iid=d7ce4e31-a2e3-4ad0-bf59-dac36190fd33.TVSFQXFKMHUDYCJ3.SEARCH&ppt=None&ppn=None&ssid=oqhd3pec740000001621498148861&qH=43780d550576947f\n\nrealme 108 cm (43 inch) Full HD LED Smart Android TV\n₹23,999\n1,17,340 Ratings & 14,346 Reviews\n\nhttps://www.flipkart.com/realme-108-cm-43-inch-full-hd-led-smart-android-tv/p/itme64cc2d6c5919?pid=TVSFRTJQ4ZBT7RGM&lid=LSTTVSFRTJQ4ZBT7RGMTFCZSA&marketplace=FLIPKART&q=oneplus&store=search.flipkart.com&spotlightTagId=BestvalueId_search.flipkart.com&srno=s_1_19&otracker=search&fm=organic&iid=d7ce4e31-a2e3-4ad0-bf59-dac36190fd33.TVSFRTJQ4ZBT7RGM.SEARCH&ppt=None&ppn=None&ssid=oqhd3pec740000001621498148861&qH=43780d550576947f\n\nrealme 7i (Fusion Blue, 64 GB)\n₹11,999\n2,76,836 Ratings & 20,370 Reviews\n\nhttps://www.flipkart.com/realme-7i-fusion-blue-64-gb/p/itm13f2c8bee336b?pid=MOBFVH83FGBGHG7U&lid=LSTMOBFVH83FGBGHG7U4TPYGX&marketplace=FLIPKART&q=oneplus&store=search.flipkart.com&srno=s_1_20&otracker=search&fm=organic&iid=d7ce4e31-a2e3-4ad0-bf59-dac36190fd33.MOBFVH83FGBGHG7U.SEARCH&ppt=None&ppn=None&ssid=oqhd3pec740000001621498148861&qH=43780d550576947f\n\nREDMI 9 Prime (Matte Black, 64 GB)\n₹9,999\n1,07,798 Ratings & 7,197 Reviews\n\nhttps://www.flipkart.com/redmi-9-prime-matte-black-64-gb/p/itmeeb1764ec0fcf?pid=MOBFUSCC57HCZGKG&lid=LSTMOBFUSCC57HCZGKGQ6TSNL&marketplace=FLIPKART&q=oneplus&store=search.flipkart.com&srno=s_1_21&otracker=search&fm=organic&iid=d7ce4e31-a2e3-4ad0-bf59-dac36190fd33.MOBFUSCC57HCZGKG.SEARCH&ppt=None&ppn=None&ssid=oqhd3pec740000001621498148861&qH=43780d550576947f\n\nNokia 105 SS 2021\n₹1,199\n48,111 Ratings & 3,740 Reviews\n\nhttps://www.flipkart.com/nokia-105-ss-2021/p/itmd2cc089779010?pid=MOBFH7HQXUCWYXMJ&lid=LSTMOBFH7HQXUCWYXMJ8V1XQD&marketplace=FLIPKART&q=oneplus&store=search.flipkart.com&srno=s_1_22&otracker=search&fm=organic&iid=d7ce4e31-a2e3-4ad0-bf59-dac36190fd33.MOBFH7HQXUCWYXMJ.SEARCH&ppt=None&ppn=None&ssid=oqhd3pec740000001621498148861&qH=43780d550576947f\n\nNokia 105 SS\n₹1,177\n88,817 Ratings & 8,231 Reviews\n\nhttps://www.flipkart.com/nokia-105-ss/p/itm87b964a708d70?pid=MOBFH7HQXPFFCBDJ&lid=LSTMOBFH7HQXPFFCBDJUP35SL&marketplace=FLIPKART&q=oneplus&store=search.flipkart.com&srno=s_1_23&otracker=search&fm=organic&iid=d7ce4e31-a2e3-4ad0-bf59-dac36190fd33.MOBFH7HQXPFFCBDJ.SEARCH&ppt=None&ppn=None&ssid=oqhd3pec740000001621498148861&qH=43780d550576947f\n\nOnePlus Buds Z Bluetooth Headset\n₹2,699\n26,637 Ratings & 2,700 Reviews\n\nhttps://www.flipkart.com/oneplus-buds-z-bluetooth-headset/p/itm978e1f7bee61d?pid=ACCFVA3GNUZQZEHZ&lid=LSTACCFVA3GNUZQZEHZNZJSET&marketplace=FLIPKART&q=oneplus&store=search.flipkart.com&srno=s_1_24&otracker=search&fm=organic&iid=d7ce4e31-a2e3-4ad0-bf59-dac36190fd33.ACCFVA3GNUZQZEHZ.SEARCH&ppt=None&ppn=None&ssid=oqhd3pec740000001621498148861&qH=43780d550576947f\n\nOnePlus Bullets Wireless Z Bluetooth Headset\n₹1,999\n2,71,332 Ratings & 27,760 Reviews\n\nhttps://www.flipkart.com/oneplus-bullets-wireless-z-bluetooth-headset/p/itme9bbcb719b282?pid=ACCFR3Q7FDD3H2ZB&lid=LSTACCFR3Q7FDD3H2ZBLOGAUU&marketplace=FLIPKART&q=oneplus&store=search.flipkart.com&srno=s_1_25&otracker=search&fm=organic&iid=d7ce4e31-a2e3-4ad0-bf59-dac36190fd33.ACCFR3Q7FDD3H2ZB.SEARCH&ppt=None&ppn=None&ssid=oqhd3pec740000001621498148861&qH=43780d550576947f\n\nOnePlus Buds Z Bluetooth Headset\n₹2,699\n26,637 Ratings & 2,700 Reviews\n\nhttps://www.flipkart.com/oneplus-buds-z-bluetooth-headset/p/itm00efbae9d7ef3?pid=ACCFVA3GDUUVTXXJ&lid=LSTACCFVA3GDUUVTXXJGNXB6G&marketplace=FLIPKART&q=oneplus&store=search.flipkart.com&srno=s_1_26&otracker=search&fm=organic&iid=d7ce4e31-a2e3-4ad0-bf59-dac36190fd33.ACCFVA3GDUUVTXXJ.SEARCH&ppt=None&ppn=None&ssid=oqhd3pec740000001621498148861&qH=43780d550576947f\n\nOnePlus Buds Bluetooth Headset\n₹4,499\n18,047 Ratings & 1,911 Reviews\n\nhttps://www.flipkart.com/oneplus-buds-bluetooth-headset/p/itm1c0fcf481f3b1?pid=ACCFTRN3YJCHZPM9&lid=LSTACCFTRN3YJCHZPM9RWXUMP&marketplace=FLIPKART&q=oneplus&store=search.flipkart.com&srno=s_1_27&otracker=search&fm=organic&iid=d7ce4e31-a2e3-4ad0-bf59-dac36190fd33.ACCFTRN3YJCHZPM9.SEARCH&ppt=None&ppn=None&ssid=oqhd3pec740000001621498148861&qH=43780d550576947f\n\nOnePlus 10000 mAh Power Bank (18 W, Fast Charging)\n₹1,099\n9,050 Ratings & 621 Reviews\n\nhttps://www.flipkart.com/oneplus-10000-mah-power-bank-18-w-fast-charging/p/itmccd0756b8e3a3?pid=PWBFVHU98ZGFSNMW&lid=LSTPWBFVHU98ZGFSNMWYZNHHW&marketplace=FLIPKART&q=oneplus&store=search.flipkart.com&srno=s_1_28&otracker=search&fm=organic&iid=d7ce4e31-a2e3-4ad0-bf59-dac36190fd33.PWBFVHU98ZGFSNMW.SEARCH&ppt=None&ppn=None&ssid=oqhd3pec740000001621498148861&qH=43780d550576947f\n\nLG 80 cm (32 inch) HD Ready LED Smart TV 2020 Edition\n₹16,999\n22,119 Ratings & 1,966 Reviews\n\nhttps://www.flipkart.com/lg-80-cm-32-inch-hd-ready-led-smart-tv-2020/p/itm6207e6d122567?pid=TVSFTW4CSRW8PGDQ&lid=LSTTVSFTW4CSRW8PGDQSZQIO6&marketplace=FLIPKART&q=oneplus&store=search.flipkart.com&spotlightTagId=BestvalueId_search.flipkart.com&srno=s_1_29&otracker=search&fm=organic&iid=d7ce4e31-a2e3-4ad0-bf59-dac36190fd33.TVSFTW4CSRW8PGDQ.SEARCH&ppt=None&ppn=None&ssid=oqhd3pec740000001621498148861&qH=43780d550576947f\n\nMi 4A Horizon Edition 80 cm (32 inch) HD Ready LED Smart Android TV\n₹15,999\n124 Ratings & 13 Reviews\n\nhttps://www.flipkart.com/mi-4a-horizon-80-cm-32-inch-hd-ready-led-smart-android-tv/p/itm9dcfc24f18feb?pid=TVSG22C46SKHXTH8&lid=LSTTVSG22C46SKHXTH8LDWFQD&marketplace=FLIPKART&q=oneplus&store=search.flipkart.com&srno=s_1_30&otracker=search&fm=organic&iid=d7ce4e31-a2e3-4ad0-bf59-dac36190fd33.TVSG22C46SKHXTH8.SEARCH&ppt=None&ppn=None&ssid=oqhd3pec740000001621498148861&qH=43780d550576947f\n\nMi 4X 138.8 cm (55 inch) Ultra HD (4K) LED Smart TV\n₹40,999\n72,338 Ratings & 7,714 Reviews\n\nhttps://www.flipkart.com/mi-4x-138-8-cm-55-inch-ultra-hd-4k-led-smart-tv/p/itmf90a9d92f0a52?pid=TVSG22C4CQV6SJPH&lid=LSTTVSG22C4CQV6SJPH8LNAHQ&marketplace=FLIPKART&q=oneplus&store=search.flipkart.com&srno=s_1_31&otracker=search&fm=organic&iid=d7ce4e31-a2e3-4ad0-bf59-dac36190fd33.TVSG22C4CQV6SJPH.SEARCH&ppt=None&ppn=None&ssid=oqhd3pec740000001621498148861&qH=43780d550576947f\n\niFFALCON by TCL 79.97 cm (32 inch) HD Ready LED Smart Android TV with Google assistant tv HDR 10 and D...\n₹12,999\n22,578 Ratings & 3,293 Reviews\n\nhttps://www.flipkart.com/iffalcon-tcl-79-97-cm-32-inch-hd-ready-led-smart-android-tv-google-assistant-hdr-10-dolby-audio/p/itmf7hcfgwf2wzx8?pid=TVSF7HCFDCSAHZSE&lid=LSTTVSF7HCFDCSAHZSEIWJJBZ&marketplace=FLIPKART&q=oneplus&store=search.flipkart.com&srno=s_1_32&otracker=search&fm=organic&iid=d7ce4e31-a2e3-4ad0-bf59-dac36190fd33.TVSF7HCFDCSAHZSE.SEARCH&ppt=None&ppn=None&ssid=oqhd3pec740000001621498148861&qH=43780d550576947f\n\nSAMSUNG 80 cm (32 inch) HD Ready LED Smart TV 2021 Edition with Voice Search\n₹17,499\n115 Ratings & 11 Reviews\n\nhttps://www.flipkart.com/samsung-80-cm-32-inch-hd-ready-led-smart-tv-2021-voice-search/p/itm385f5d84060d4?pid=TVSGFJJGX3PAJYVF&lid=LSTTVSGFJJGX3PAJYVFHJEFUQ&marketplace=FLIPKART&q=oneplus&store=search.flipkart.com&srno=s_1_33&otracker=search&fm=organic&iid=d7ce4e31-a2e3-4ad0-bf59-dac36190fd33.TVSGFJJGX3PAJYVF.SEARCH&ppt=None&ppn=None&ssid=oqhd3pec740000001621498148861&qH=43780d550576947f\n\nLAVA A3\n₹1,073\n20,104 Ratings & 2,390 Reviews\n\nhttps://www.flipkart.com/lava-a3/p/itmfftg3geccnjcv?pid=MOBFFTG39EVNDGH8&lid=LSTMOBFFTG39EVNDGH8XSEZM3&marketplace=FLIPKART&q=oneplus&store=search.flipkart.com&srno=s_1_34&otracker=search&fm=organic&iid=d7ce4e31-a2e3-4ad0-bf59-dac36190fd33.MOBFFTG39EVNDGH8.SEARCH&ppt=None&ppn=None&ssid=oqhd3pec740000001621498148861&qH=43780d550576947f\n\nAPPLE iPhone 11 (Black, 64 GB)\n₹49,999\n59,044 Ratings & 4,508 Reviews\n\nhttps://www.flipkart.com/apple-iphone-11-black-64-gb/p/itm4e5041ba101fd?pid=MOBFWQ6BXGJCEYNY&lid=LSTMOBFWQ6BXGJCEYNYZXSHRJ&marketplace=FLIPKART&q=oneplus&store=search.flipkart.com&srno=s_1_35&otracker=search&fm=organic&iid=d7ce4e31-a2e3-4ad0-bf59-dac36190fd33.MOBFWQ6BXGJCEYNY.SEARCH&ppt=None&ppn=None&ssid=oqhd3pec740000001621498148861&qH=43780d550576947f\n\nREDMI 9 Prime (Space Blue, 64 GB)\n₹9,999\n1,07,798 Ratings & 7,197 Reviews\n\nhttps://www.flipkart.com/redmi-9-prime-space-blue-64-gb/p/itme138a7bc1c7f5?pid=MOBFUT9M84NDDYQN&lid=LSTMOBFUT9M84NDDYQN9NHPW2&marketplace=FLIPKART&q=oneplus&store=search.flipkart.com&srno=s_1_36&otracker=search&fm=organic&iid=d7ce4e31-a2e3-4ad0-bf59-dac36190fd33.MOBFUT9M84NDDYQN.SEARCH&ppt=None&ppn=None&ssid=oqhd3pec740000001621498148861&qH=43780d550576947f\n\nLAVA A3\n₹1,225\n20,104 Ratings & 2,390 Reviews\n\nhttps://www.flipkart.com/lava-a3/p/itmfftg3geccnjcv?pid=MOBFFTG38RKCAZRZ&lid=LSTMOBFFTG38RKCAZRZZCHOXJ&marketplace=FLIPKART&q=oneplus&store=search.flipkart.com&srno=s_1_37&otracker=search&fm=organic&iid=d7ce4e31-a2e3-4ad0-bf59-dac36190fd33.MOBFFTG38RKCAZRZ.SEARCH&ppt=None&ppn=None&ssid=oqhd3pec740000001621498148861&qH=43780d550576947f\n\nOnePlus Buds Z Bluetooth Headset\n₹3,699\n26,637 Ratings & 2,700 Reviews\n\nhttps://www.flipkart.com/oneplus-buds-z-bluetooth-headset/p/itmed2c9858c76e6?pid=ACCFZCTYNMXAQYH6&lid=LSTACCFZCTYNMXAQYH6UXNEZM&marketplace=FLIPKART&q=oneplus&store=search.flipkart.com&srno=s_1_38&otracker=search&fm=organic&iid=d7ce4e31-a2e3-4ad0-bf59-dac36190fd33.ACCFZCTYNMXAQYH6.SEARCH&ppt=None&ppn=None&ssid=oqhd3pec740000001621498148861&qH=43780d550576947f\n\nOnePlus Buds Bluetooth Headset\n₹4,499\n18,047 Ratings & 1,911 Reviews\n\nhttps://www.flipkart.com/oneplus-buds-bluetooth-headset/p/itm60a50f14f25d7?pid=ACCFTRN354PRDUUD&lid=LSTACCFTRN354PRDUUD3LDEGW&marketplace=FLIPKART&q=oneplus&store=search.flipkart.com&srno=s_1_39&otracker=search&fm=organic&iid=d7ce4e31-a2e3-4ad0-bf59-dac36190fd33.ACCFTRN354PRDUUD.SEARCH&ppt=None&ppn=None&ssid=oqhd3pec740000001621498148861&qH=43780d550576947f\n\nOnePlus Buds Bluetooth Headset\n₹4,499\n18,047 Ratings & 1,911 Reviews\n\nhttps://www.flipkart.com/oneplus-buds-bluetooth-headset/p/itm434e9469a6bb5?pid=ACCFTRN3YD6E8RX7&lid=LSTACCFTRN3YD6E8RX7KO6JMV&marketplace=FLIPKART&q=oneplus&store=search.flipkart.com&srno=s_1_40&otracker=search&fm=organic&iid=d7ce4e31-a2e3-4ad0-bf59-dac36190fd33.ACCFTRN3YD6E8RX7.SEARCH&ppt=None&ppn=None&ssid=oqhd3pec740000001621498148861&qH=43780d550576947f\n\n"
     ]
    }
   ],
   "source": [
    "for product in items[2:-4]:\n",
    "    print(product.find('div', {'class' : '_4rR01T'}).text)\n",
    "    print(product.find('div', {'class' : '_30jeq3'}).text)\n",
    "    print(product.find('span', {'class' : '_2_R_DZ'}).text)\n",
    "    print()\n",
    "    print(domain+product.find('a', {'class' : '_1fQZEK'}).attrs.get('href'))\n",
    "    print()"
   ]
  },
  {
   "cell_type": "code",
   "execution_count": 4,
   "metadata": {},
   "outputs": [],
   "source": [
    "url = \"https://www.flipkart.com/acer-predator-helios-300-core-i7-10th-gen-16-gb-1-tb-hdd-256-gb-ssd-windows-10-home-6-graphics-nvidia-geforce-rtx-2060-144-hz-ph315-53-72e9-gaming-laptop/p/itmd5ac4f3bc76ae?pid=COMFR6AAEYT9K4FW&lid=LSTCOMFR6AAEYT9K4FWVF6H8X&marketplace=FLIPKART&q=predator+helios+300&store=6bo%2Fb5g&srno=s_1_3&otracker=AS_QueryStore_OrganicAutoSuggest_1_8_na_na_na&otracker1=AS_QueryStore_OrganicAutoSuggest_1_8_na_na_na&fm=SEARCH&iid=67a8f9c3-9f97-46cc-a64d-d8606349f267.COMFR6AAEYT9K4FW.SEARCH&ppt=hp&ppn=homepage&ssid=cng5n2ywxs0000001621584502929&qH=3901767301d199d8\""
   ]
  },
  {
   "cell_type": "code",
   "execution_count": 13,
   "metadata": {},
   "outputs": [],
   "source": [
    "soup1 = BeautifulSoup(requests.get(url).text)"
   ]
  },
  {
   "cell_type": "code",
   "execution_count": 14,
   "metadata": {},
   "outputs": [],
   "source": [
    "name = soup1.find('span', {'class' : 'B_NuCI'}).text\n",
    "price = soup1.find('div', {'class' : '_30jeq3'}).text"
   ]
  },
  {
   "cell_type": "code",
   "execution_count": 12,
   "metadata": {},
   "outputs": [
    {
     "output_type": "execute_result",
     "data": {
      "text/plain": [
       "'₹1,26,000'"
      ]
     },
     "metadata": {},
     "execution_count": 12
    }
   ],
   "source": [
    "price"
   ]
  },
  {
   "cell_type": "code",
   "execution_count": null,
   "metadata": {},
   "outputs": [],
   "source": []
  }
 ]
}